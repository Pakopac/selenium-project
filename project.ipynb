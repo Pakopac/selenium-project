{
 "cells": [
  {
   "cell_type": "code",
   "execution_count": 135,
   "id": "d70d02f0-4aff-45f1-858f-ac52c788ae91",
   "metadata": {},
   "outputs": [
    {
     "name": "stdout",
     "output_type": "stream",
     "text": [
      "Requirement already satisfied: selenium in /home/lilian/scrapping-python/env/lib/python3.7/site-packages (from -r requirements.txt (line 1)) (4.1.0)\n",
      "Requirement already satisfied: pandas in /home/lilian/scrapping-python/env/lib/python3.7/site-packages (from -r requirements.txt (line 2)) (1.3.5)\n",
      "Requirement already satisfied: trio-websocket~=0.9 in /home/lilian/scrapping-python/env/lib/python3.7/site-packages (from selenium->-r requirements.txt (line 1)) (0.9.2)\n",
      "Requirement already satisfied: urllib3[secure]~=1.26 in /home/lilian/scrapping-python/env/lib/python3.7/site-packages (from selenium->-r requirements.txt (line 1)) (1.26.7)\n",
      "Requirement already satisfied: trio~=0.17 in /home/lilian/scrapping-python/env/lib/python3.7/site-packages (from selenium->-r requirements.txt (line 1)) (0.19.0)\n",
      "Requirement already satisfied: python-dateutil>=2.7.3 in /home/lilian/scrapping-python/env/lib/python3.7/site-packages (from pandas->-r requirements.txt (line 2)) (2.8.2)\n",
      "Requirement already satisfied: numpy>=1.17.3; platform_machine != \"aarch64\" and platform_machine != \"arm64\" and python_version < \"3.10\" in /home/lilian/scrapping-python/env/lib/python3.7/site-packages (from pandas->-r requirements.txt (line 2)) (1.21.4)\n",
      "Requirement already satisfied: pytz>=2017.3 in /home/lilian/scrapping-python/env/lib/python3.7/site-packages (from pandas->-r requirements.txt (line 2)) (2021.3)\n",
      "Requirement already satisfied: wsproto>=0.14 in /home/lilian/scrapping-python/env/lib/python3.7/site-packages (from trio-websocket~=0.9->selenium->-r requirements.txt (line 1)) (1.0.0)\n",
      "Requirement already satisfied: async-generator>=1.10 in /home/lilian/scrapping-python/env/lib/python3.7/site-packages (from trio-websocket~=0.9->selenium->-r requirements.txt (line 1)) (1.10)\n",
      "Requirement already satisfied: pyOpenSSL>=0.14; extra == \"secure\" in /home/lilian/scrapping-python/env/lib/python3.7/site-packages (from urllib3[secure]~=1.26->selenium->-r requirements.txt (line 1)) (21.0.0)\n",
      "Requirement already satisfied: certifi; extra == \"secure\" in /home/lilian/scrapping-python/env/lib/python3.7/site-packages (from urllib3[secure]~=1.26->selenium->-r requirements.txt (line 1)) (2021.10.8)\n",
      "Requirement already satisfied: idna>=2.0.0; extra == \"secure\" in /home/lilian/scrapping-python/env/lib/python3.7/site-packages (from urllib3[secure]~=1.26->selenium->-r requirements.txt (line 1)) (3.3)\n",
      "Requirement already satisfied: cryptography>=1.3.4; extra == \"secure\" in /home/lilian/scrapping-python/env/lib/python3.7/site-packages (from urllib3[secure]~=1.26->selenium->-r requirements.txt (line 1)) (36.0.0)\n",
      "Requirement already satisfied: attrs>=19.2.0 in /home/lilian/scrapping-python/env/lib/python3.7/site-packages (from trio~=0.17->selenium->-r requirements.txt (line 1)) (21.2.0)\n",
      "Requirement already satisfied: sniffio in /home/lilian/scrapping-python/env/lib/python3.7/site-packages (from trio~=0.17->selenium->-r requirements.txt (line 1)) (1.2.0)\n",
      "Requirement already satisfied: sortedcontainers in /home/lilian/scrapping-python/env/lib/python3.7/site-packages (from trio~=0.17->selenium->-r requirements.txt (line 1)) (2.4.0)\n",
      "Requirement already satisfied: outcome in /home/lilian/scrapping-python/env/lib/python3.7/site-packages (from trio~=0.17->selenium->-r requirements.txt (line 1)) (1.1.0)\n",
      "Requirement already satisfied: six>=1.5 in /home/lilian/scrapping-python/env/lib/python3.7/site-packages (from python-dateutil>=2.7.3->pandas->-r requirements.txt (line 2)) (1.16.0)\n",
      "Requirement already satisfied: h11<1,>=0.9.0 in /home/lilian/scrapping-python/env/lib/python3.7/site-packages (from wsproto>=0.14->trio-websocket~=0.9->selenium->-r requirements.txt (line 1)) (0.12.0)\n",
      "Requirement already satisfied: cffi>=1.12 in /home/lilian/scrapping-python/env/lib/python3.7/site-packages (from cryptography>=1.3.4; extra == \"secure\"->urllib3[secure]~=1.26->selenium->-r requirements.txt (line 1)) (1.15.0)\n",
      "Requirement already satisfied: pycparser in /home/lilian/scrapping-python/env/lib/python3.7/site-packages (from cffi>=1.12->cryptography>=1.3.4; extra == \"secure\"->urllib3[secure]~=1.26->selenium->-r requirements.txt (line 1)) (2.21)\n"
     ]
    }
   ],
   "source": [
    "# Install dependencies\n",
    "!pip install -r requirements.txt"
   ]
  },
  {
   "cell_type": "code",
   "execution_count": 136,
   "id": "e8aa25db-4890-4773-9bb2-7dc598ca799b",
   "metadata": {},
   "outputs": [
    {
     "data": {
      "text/plain": [
       "'/home/lilian/scrapping-python/env/bin'"
      ]
     },
     "execution_count": 136,
     "metadata": {},
     "output_type": "execute_result"
    }
   ],
   "source": [
    "\"\"\"\n",
    "Download geckodriver here: https://github.com/mozilla/geckodriver/releases\n",
    "And add exe file in this folder\n",
    "\"\"\"\n",
    "import os\n",
    "import sys\n",
    "os.path.dirname(sys.executable)"
   ]
  },
  {
   "cell_type": "code",
   "execution_count": 145,
   "id": "a7011758-c323-4d8c-9f0e-3b41221162c6",
   "metadata": {},
   "outputs": [],
   "source": [
    "# Import dependencies\n",
    "from selenium import webdriver\n",
    "from selenium.webdriver.firefox.firefox_binary import FirefoxBinary\n",
    "from selenium.webdriver.common.by import By\n",
    "from selenium.webdriver.support.ui import WebDriverWait\n",
    "import time\n",
    "import pandas as pd"
   ]
  },
  {
   "cell_type": "code",
   "execution_count": 199,
   "id": "4d18f953-f240-4d07-8471-e69788d8e868",
   "metadata": {},
   "outputs": [],
   "source": [
    "def num_there(s):\n",
    "    return any(i.isdigit() for i in s)\n",
    "\n",
    "def getStats(rows, typeStat):\n",
    "    array = []\n",
    "    for row in rows:\n",
    "        name = row.find_elements(By.TAG_NAME, 'td')[0].text\n",
    "        desc = row.find_elements(By.TAG_NAME, 'td')[4].text.lower()\n",
    "        if \"+\" in desc:\n",
    "            descArr = desc.split(' ')\n",
    "            for i in range(len(descArr)):\n",
    "                if i < len(descArr) - 1 and \"+\" in descArr[i] and (descArr[i+1] == typeStat or descArr[i+1] == typeStat + ','):\n",
    "                    array.append([name, desc.split(' ')[i]])\n",
    "                    break\n",
    "    df = pd.DataFrame(array)\n",
    "    f = pd.DataFrame(array)\n",
    "    df.style\n",
    "    df.to_csv('items.csv', index=False)  \n",
    "    print(df)"
   ]
  },
  {
   "cell_type": "code",
   "execution_count": 191,
   "id": "0c1da1e5-5d63-4fb6-8758-824456800162",
   "metadata": {},
   "outputs": [
    {
     "name": "stdout",
     "output_type": "stream",
     "text": [
      "                   0      1\n",
      "0            Abaddon   +1.5\n",
      "1          Capricorn   +0.5\n",
      "2   Cat-O-Nine-Tails     +1\n",
      "3        Dark Matter     +1\n",
      "4      Death's Touch   +1.5\n",
      "5            Godhead   +0.5\n",
      "6    Growth Hormones     +1\n",
      "7         Guillotine     +1\n",
      "8        Jesus Juice   +0.5\n",
      "9     Magic Mushroom   +0.3\n",
      "10      Odd Mushroom   +0.3\n",
      "11         Pentagram     +1\n",
      "12     SMB Super Fan   +0.3\n",
      "13          Synthoil     +1\n",
      "14          The Halo   +0.3\n",
      "15          The Mark     +1\n",
      "16          The Pact   +0.5\n",
      "17  Whore of Babylon   +1.5\n",
      "18   Maw of the Void     +1\n",
      "19         Dog Tooth   +0.3\n",
      "20             Dogma     +2\n",
      "21         Glass Eye  +0.75\n",
      "22        Heartbreak  +0.25\n",
      "23        Redemption     +1\n",
      "24           Sausage   +0.5\n",
      "25              Stye   +28%\n"
     ]
    }
   ],
   "source": [
    "# Init driver\n",
    "driver = webdriver.Chrome()\n",
    "\n",
    "# Get item page\n",
    "driver.get(\"https://bindingofisaacrebirth.fandom.com/wiki/Damage\")\n",
    "# Wait for load all items\n",
    "time.sleep(2)\n",
    "\n",
    "# Get each items in an array\n",
    "#rows = driver.find_elements(By.CLASS_NAME, 'row-collectible')\n",
    "#Accept cookies\n",
    "driver.find_element(By.XPATH,'/html/body/div[6]/div/div/div[2]/div[2]').click()\n",
    "time.sleep(1)\n",
    "rows = driver.find_elements(By.XPATH, '//*[@id=\"mw-content-text\"]/div/table[4]/tbody/tr')\n",
    "\n",
    "getStats(rows, \"damage\")\n",
    "# Close driver\n",
    "driver.close()"
   ]
  },
  {
   "cell_type": "code",
   "execution_count": 204,
   "id": "d5476584-a832-4af6-b7d4-3bb6ce871712",
   "metadata": {},
   "outputs": [
    {
     "name": "stdout",
     "output_type": "stream",
     "text": [
      "                  0      1\n",
      "0          Blue Cap   +0.7\n",
      "1        Number One   +1.5\n",
      "2      Odd Mushroom   +1.7\n",
      "3            Rosary   +0.5\n",
      "4             Screw   +0.5\n",
      "5     SMB Super Fan   +0.2\n",
      "6          The Halo   +0.2\n",
      "7        Toothpicks   +0.7\n",
      "8        Torn Photo   +0.7\n",
      "9             Binky  +0.75\n",
      "10  Eden's Blessing   +0.7\n",
      "11           Marked   +0.7\n",
      "12        Mr. Dolly   +0.7\n",
      "13     Analog Stick  +0.35\n",
      "14   Divorce Papers   +0.7\n",
      "15    A Bar of Soap   +0.5\n",
      "16   Paschal Candle   +0.4\n",
      "17          Sausage   +0.5\n"
     ]
    }
   ],
   "source": [
    "driver = webdriver.Chrome()\n",
    "driver.get(\"https://bindingofisaacrebirth.fandom.com/wiki/Tears\")\n",
    "time.sleep(2)\n",
    "driver.find_element(By.XPATH,'/html/body/div[6]/div/div/div[2]/div[2]').click()\n",
    "time.sleep(1)\n",
    "rows = driver.find_elements(By.XPATH, '//*[@id=\"mw-content-text\"]/div/table[5]/tbody/tr')\n",
    "getStats(rows, \"tears\")\n",
    "driver.close()"
   ]
  },
  {
   "cell_type": "code",
   "execution_count": null,
   "id": "f1288335-94f4-4b57-91aa-fd513d2bb702",
   "metadata": {},
   "outputs": [],
   "source": []
  }
 ],
 "metadata": {
  "kernelspec": {
   "display_name": "Python 3 (ipykernel)",
   "language": "python",
   "name": "python3"
  },
  "language_info": {
   "codemirror_mode": {
    "name": "ipython",
    "version": 3
   },
   "file_extension": ".py",
   "mimetype": "text/x-python",
   "name": "python",
   "nbconvert_exporter": "python",
   "pygments_lexer": "ipython3",
   "version": "3.7.3"
  }
 },
 "nbformat": 4,
 "nbformat_minor": 5
}
