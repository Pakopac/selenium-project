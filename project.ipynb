{
 "cells": [
  {
   "cell_type": "code",
   "execution_count": 22,
   "id": "d70d02f0-4aff-45f1-858f-ac52c788ae91",
   "metadata": {},
   "outputs": [
    {
     "name": "stdout",
     "output_type": "stream",
     "text": [
      "Requirement already satisfied: selenium in /home/lilian/scrapping-python/env/lib/python3.7/site-packages (from -r requirements.txt (line 1)) (4.1.0)\n",
      "Requirement already satisfied: trio-websocket~=0.9 in /home/lilian/scrapping-python/env/lib/python3.7/site-packages (from selenium->-r requirements.txt (line 1)) (0.9.2)\n",
      "Requirement already satisfied: trio~=0.17 in /home/lilian/scrapping-python/env/lib/python3.7/site-packages (from selenium->-r requirements.txt (line 1)) (0.19.0)\n",
      "Requirement already satisfied: urllib3[secure]~=1.26 in /home/lilian/scrapping-python/env/lib/python3.7/site-packages (from selenium->-r requirements.txt (line 1)) (1.26.7)\n",
      "Requirement already satisfied: wsproto>=0.14 in /home/lilian/scrapping-python/env/lib/python3.7/site-packages (from trio-websocket~=0.9->selenium->-r requirements.txt (line 1)) (1.0.0)\n",
      "Requirement already satisfied: async-generator>=1.10 in /home/lilian/scrapping-python/env/lib/python3.7/site-packages (from trio-websocket~=0.9->selenium->-r requirements.txt (line 1)) (1.10)\n",
      "Requirement already satisfied: sortedcontainers in /home/lilian/scrapping-python/env/lib/python3.7/site-packages (from trio~=0.17->selenium->-r requirements.txt (line 1)) (2.4.0)\n",
      "Requirement already satisfied: outcome in /home/lilian/scrapping-python/env/lib/python3.7/site-packages (from trio~=0.17->selenium->-r requirements.txt (line 1)) (1.1.0)\n",
      "Requirement already satisfied: idna in /home/lilian/scrapping-python/env/lib/python3.7/site-packages (from trio~=0.17->selenium->-r requirements.txt (line 1)) (3.3)\n",
      "Requirement already satisfied: sniffio in /home/lilian/scrapping-python/env/lib/python3.7/site-packages (from trio~=0.17->selenium->-r requirements.txt (line 1)) (1.2.0)\n",
      "Requirement already satisfied: attrs>=19.2.0 in /home/lilian/scrapping-python/env/lib/python3.7/site-packages (from trio~=0.17->selenium->-r requirements.txt (line 1)) (21.2.0)\n",
      "Requirement already satisfied: cryptography>=1.3.4; extra == \"secure\" in /home/lilian/scrapping-python/env/lib/python3.7/site-packages (from urllib3[secure]~=1.26->selenium->-r requirements.txt (line 1)) (36.0.0)\n",
      "Requirement already satisfied: certifi; extra == \"secure\" in /home/lilian/scrapping-python/env/lib/python3.7/site-packages (from urllib3[secure]~=1.26->selenium->-r requirements.txt (line 1)) (2021.10.8)\n",
      "Requirement already satisfied: pyOpenSSL>=0.14; extra == \"secure\" in /home/lilian/scrapping-python/env/lib/python3.7/site-packages (from urllib3[secure]~=1.26->selenium->-r requirements.txt (line 1)) (21.0.0)\n",
      "Requirement already satisfied: h11<1,>=0.9.0 in /home/lilian/scrapping-python/env/lib/python3.7/site-packages (from wsproto>=0.14->trio-websocket~=0.9->selenium->-r requirements.txt (line 1)) (0.12.0)\n",
      "Requirement already satisfied: cffi>=1.12 in /home/lilian/scrapping-python/env/lib/python3.7/site-packages (from cryptography>=1.3.4; extra == \"secure\"->urllib3[secure]~=1.26->selenium->-r requirements.txt (line 1)) (1.15.0)\n",
      "Requirement already satisfied: six>=1.5.2 in /home/lilian/scrapping-python/env/lib/python3.7/site-packages (from pyOpenSSL>=0.14; extra == \"secure\"->urllib3[secure]~=1.26->selenium->-r requirements.txt (line 1)) (1.16.0)\n",
      "Requirement already satisfied: pycparser in /home/lilian/scrapping-python/env/lib/python3.7/site-packages (from cffi>=1.12->cryptography>=1.3.4; extra == \"secure\"->urllib3[secure]~=1.26->selenium->-r requirements.txt (line 1)) (2.21)\n"
     ]
    }
   ],
   "source": [
    "# Install dependencies\n",
    "!pip install -r requirements.txt"
   ]
  },
  {
   "cell_type": "code",
   "execution_count": 23,
   "id": "e8aa25db-4890-4773-9bb2-7dc598ca799b",
   "metadata": {},
   "outputs": [
    {
     "data": {
      "text/plain": [
       "'/home/lilian/scrapping-python/env/bin'"
      ]
     },
     "execution_count": 23,
     "metadata": {},
     "output_type": "execute_result"
    }
   ],
   "source": [
    "\"\"\"\n",
    "Download geckodriver here: https://github.com/mozilla/geckodriver/releases\n",
    "And add exe file in this folder\n",
    "\"\"\"\n",
    "import os\n",
    "import sys\n",
    "os.path.dirname(sys.executable)"
   ]
  },
  {
   "cell_type": "code",
   "execution_count": 24,
   "id": "a7011758-c323-4d8c-9f0e-3b41221162c6",
   "metadata": {},
   "outputs": [],
   "source": [
    "# Import dependencies\n",
    "from selenium import webdriver\n",
    "from selenium.webdriver.firefox.firefox_binary import FirefoxBinary\n",
    "from selenium.webdriver.common.by import By"
   ]
  },
  {
   "cell_type": "code",
   "execution_count": 25,
   "id": "950c1492-d0b3-4b1a-b1fb-e5e4b3bacdb5",
   "metadata": {},
   "outputs": [],
   "source": [
    "# Change with your firefox bin\n",
    "firefox_bin = '/usr/bin/firefox'"
   ]
  },
  {
   "cell_type": "code",
   "execution_count": 29,
   "id": "0c1da1e5-5d63-4fb6-8758-824456800162",
   "metadata": {},
   "outputs": [
    {
     "name": "stderr",
     "output_type": "stream",
     "text": [
      "/home/lilian/scrapping-python/env/lib/python3.7/site-packages/ipykernel_launcher.py:3: DeprecationWarning: firefox_binary has been deprecated, please pass in a Service object\n",
      "  This is separate from the ipykernel package so we can avoid doing imports until\n"
     ]
    },
    {
     "name": "stdout",
     "output_type": "stream",
     "text": [
      "Strawman 5.100.667 A helping hand Spawns a controllable Keeper to fight enemies alongside Isaac, functioning similarly to Jacob and Esau. If Keeper dies, he spawns 5 blue spiders and Strawman is removed from Isaac's inventory. 2\n"
     ]
    }
   ],
   "source": [
    "# Init driver\n",
    "binary = FirefoxBinary(firefox_bin)\n",
    "driver = webdriver.Firefox(firefox_binary=binary)\n",
    "\n",
    "# Get item page\n",
    "driver.get(\"https://bindingofisaacrebirth.fandom.com/wiki/Items\")\n",
    "\n",
    "# Wait for load all items\n",
    "driver.implicitly_wait(150)\n",
    "\n",
    "# Get each items in an array\n",
    "rows = driver.find_elements(By.CLASS_NAME, 'row-collectible')\n",
    "print(rows[700].text)\n",
    "\n",
    "# Close driver\n",
    "driver.close()"
   ]
  },
  {
   "cell_type": "code",
   "execution_count": null,
   "id": "f1288335-94f4-4b57-91aa-fd513d2bb702",
   "metadata": {},
   "outputs": [],
   "source": []
  }
 ],
 "metadata": {
  "kernelspec": {
   "display_name": "Python 3 (ipykernel)",
   "language": "python",
   "name": "python3"
  },
  "language_info": {
   "codemirror_mode": {
    "name": "ipython",
    "version": 3
   },
   "file_extension": ".py",
   "mimetype": "text/x-python",
   "name": "python",
   "nbconvert_exporter": "python",
   "pygments_lexer": "ipython3",
   "version": "3.7.3"
  }
 },
 "nbformat": 4,
 "nbformat_minor": 5
}
