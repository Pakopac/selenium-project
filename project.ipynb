{
 "cells": [
  {
   "cell_type": "code",
   "execution_count": 135,
   "id": "d70d02f0-4aff-45f1-858f-ac52c788ae91",
   "metadata": {},
   "outputs": [
    {
     "name": "stdout",
     "output_type": "stream",
     "text": [
      "Requirement already satisfied: selenium in /home/lilian/scrapping-python/env/lib/python3.7/site-packages (from -r requirements.txt (line 1)) (4.1.0)\n",
      "Requirement already satisfied: pandas in /home/lilian/scrapping-python/env/lib/python3.7/site-packages (from -r requirements.txt (line 2)) (1.3.5)\n",
      "Requirement already satisfied: trio-websocket~=0.9 in /home/lilian/scrapping-python/env/lib/python3.7/site-packages (from selenium->-r requirements.txt (line 1)) (0.9.2)\n",
      "Requirement already satisfied: urllib3[secure]~=1.26 in /home/lilian/scrapping-python/env/lib/python3.7/site-packages (from selenium->-r requirements.txt (line 1)) (1.26.7)\n",
      "Requirement already satisfied: trio~=0.17 in /home/lilian/scrapping-python/env/lib/python3.7/site-packages (from selenium->-r requirements.txt (line 1)) (0.19.0)\n",
      "Requirement already satisfied: python-dateutil>=2.7.3 in /home/lilian/scrapping-python/env/lib/python3.7/site-packages (from pandas->-r requirements.txt (line 2)) (2.8.2)\n",
      "Requirement already satisfied: numpy>=1.17.3; platform_machine != \"aarch64\" and platform_machine != \"arm64\" and python_version < \"3.10\" in /home/lilian/scrapping-python/env/lib/python3.7/site-packages (from pandas->-r requirements.txt (line 2)) (1.21.4)\n",
      "Requirement already satisfied: pytz>=2017.3 in /home/lilian/scrapping-python/env/lib/python3.7/site-packages (from pandas->-r requirements.txt (line 2)) (2021.3)\n",
      "Requirement already satisfied: wsproto>=0.14 in /home/lilian/scrapping-python/env/lib/python3.7/site-packages (from trio-websocket~=0.9->selenium->-r requirements.txt (line 1)) (1.0.0)\n",
      "Requirement already satisfied: async-generator>=1.10 in /home/lilian/scrapping-python/env/lib/python3.7/site-packages (from trio-websocket~=0.9->selenium->-r requirements.txt (line 1)) (1.10)\n",
      "Requirement already satisfied: pyOpenSSL>=0.14; extra == \"secure\" in /home/lilian/scrapping-python/env/lib/python3.7/site-packages (from urllib3[secure]~=1.26->selenium->-r requirements.txt (line 1)) (21.0.0)\n",
      "Requirement already satisfied: certifi; extra == \"secure\" in /home/lilian/scrapping-python/env/lib/python3.7/site-packages (from urllib3[secure]~=1.26->selenium->-r requirements.txt (line 1)) (2021.10.8)\n",
      "Requirement already satisfied: idna>=2.0.0; extra == \"secure\" in /home/lilian/scrapping-python/env/lib/python3.7/site-packages (from urllib3[secure]~=1.26->selenium->-r requirements.txt (line 1)) (3.3)\n",
      "Requirement already satisfied: cryptography>=1.3.4; extra == \"secure\" in /home/lilian/scrapping-python/env/lib/python3.7/site-packages (from urllib3[secure]~=1.26->selenium->-r requirements.txt (line 1)) (36.0.0)\n",
      "Requirement already satisfied: attrs>=19.2.0 in /home/lilian/scrapping-python/env/lib/python3.7/site-packages (from trio~=0.17->selenium->-r requirements.txt (line 1)) (21.2.0)\n",
      "Requirement already satisfied: sniffio in /home/lilian/scrapping-python/env/lib/python3.7/site-packages (from trio~=0.17->selenium->-r requirements.txt (line 1)) (1.2.0)\n",
      "Requirement already satisfied: sortedcontainers in /home/lilian/scrapping-python/env/lib/python3.7/site-packages (from trio~=0.17->selenium->-r requirements.txt (line 1)) (2.4.0)\n",
      "Requirement already satisfied: outcome in /home/lilian/scrapping-python/env/lib/python3.7/site-packages (from trio~=0.17->selenium->-r requirements.txt (line 1)) (1.1.0)\n",
      "Requirement already satisfied: six>=1.5 in /home/lilian/scrapping-python/env/lib/python3.7/site-packages (from python-dateutil>=2.7.3->pandas->-r requirements.txt (line 2)) (1.16.0)\n",
      "Requirement already satisfied: h11<1,>=0.9.0 in /home/lilian/scrapping-python/env/lib/python3.7/site-packages (from wsproto>=0.14->trio-websocket~=0.9->selenium->-r requirements.txt (line 1)) (0.12.0)\n",
      "Requirement already satisfied: cffi>=1.12 in /home/lilian/scrapping-python/env/lib/python3.7/site-packages (from cryptography>=1.3.4; extra == \"secure\"->urllib3[secure]~=1.26->selenium->-r requirements.txt (line 1)) (1.15.0)\n",
      "Requirement already satisfied: pycparser in /home/lilian/scrapping-python/env/lib/python3.7/site-packages (from cffi>=1.12->cryptography>=1.3.4; extra == \"secure\"->urllib3[secure]~=1.26->selenium->-r requirements.txt (line 1)) (2.21)\n"
     ]
    }
   ],
   "source": [
    "# Install dependencies\n",
    "!pip install -r requirements.txt"
   ]
  },
  {
   "cell_type": "code",
   "execution_count": 110,
   "id": "e8aa25db-4890-4773-9bb2-7dc598ca799b",
   "metadata": {},
   "outputs": [
    {
     "data": {
      "text/plain": [
       "'/home/lilian/scrapping-python/env/bin'"
      ]
     },
     "execution_count": 110,
     "metadata": {},
     "output_type": "execute_result"
    }
   ],
   "source": [
    "\"\"\"\n",
    "Download chromedriver here: https://chromedriver.chromium.org/downloads\n",
    "And add exe file in this folder\n",
    "\"\"\"\n",
    "import os\n",
    "import sys\n",
    "os.path.dirname(sys.executable)"
   ]
  },
  {
   "cell_type": "code",
   "execution_count": 111,
   "id": "a7011758-c323-4d8c-9f0e-3b41221162c6",
   "metadata": {},
   "outputs": [],
   "source": [
    "# Import dependencies\n",
    "from selenium import webdriver\n",
    "from selenium.webdriver.firefox.firefox_binary import FirefoxBinary\n",
    "from selenium.webdriver.common.by import By\n",
    "from selenium.webdriver.support.ui import WebDriverWait\n",
    "import time\n",
    "import pandas as pd"
   ]
  },
  {
   "cell_type": "code",
   "execution_count": 112,
   "id": "4d012a8a-c76d-49a3-a041-941f196c0d6d",
   "metadata": {},
   "outputs": [],
   "source": [
    "# Create class for items\n",
    "class Item:\n",
    "    def __init__(self):\n",
    "        self.name = \"\"\n",
    "        self.damage = \"\"\n",
    "        self.tears = \"\"\n",
    "        self.range = \"\"\n",
    "        \n",
    "    def searchByName(self, name):\n",
    "        if self.name == name:\n",
    "            return True"
   ]
  },
  {
   "cell_type": "code",
   "execution_count": 147,
   "id": "4d18f953-f240-4d07-8471-e69788d8e868",
   "metadata": {},
   "outputs": [],
   "source": [
    "array = []\n",
    "def getStats(rows, typeStat):\n",
    "    for row in rows:\n",
    "        name = row.find_elements(By.TAG_NAME, 'td')[0].text\n",
    "        desc = row.find_elements(By.TAG_NAME, 'td')[4].text.lower()\n",
    "        if \"+\" in desc:\n",
    "            descArr = desc.split(' ')\n",
    "            for i in range(len(descArr)):\n",
    "                if i < len(descArr) - 1 and \"+\" in descArr[i] and (descArr[i+1] == typeStat or descArr[i+1] == typeStat + ','):\n",
    "                    item = Item()\n",
    "                    item.name = name\n",
    "                    if(typeStat == \"damage\"):\n",
    "                        item.damage = desc.split(' ')[i]\n",
    "                        array.append(item)\n",
    "                    elif(typeStat == \"tears\"):\n",
    "                        isExist = False\n",
    "                        for existItem in array:\n",
    "                            if(existItem.searchByName(name) == True):\n",
    "                                existItem.tears = desc.split(' ')[i]\n",
    "                                isExist = True\n",
    "                        if isExist == False:\n",
    "                            item.tears = desc.split(' ')[i]\n",
    "                            array.append(item)\n",
    "                    elif(typeStat == \"range\"):\n",
    "                        isExist = False\n",
    "                        for existItem in array:\n",
    "                            if(existItem.searchByName(name) == True):\n",
    "                                existItem.range = desc.split(' ')[i]\n",
    "                                isExist = True\n",
    "                        if isExist == False:\n",
    "                            item.range = desc.split(' ')[i]\n",
    "                            array.append(item)\n",
    "                    break"
   ]
  },
  {
   "cell_type": "code",
   "execution_count": 148,
   "id": "84b71a6b-2cf9-45c1-b355-2b4913dd933b",
   "metadata": {},
   "outputs": [],
   "source": [
    "def getPage(url, element, typeStat):\n",
    "    # Init driver\n",
    "    driver = webdriver.Chrome()\n",
    "\n",
    "    # Get item page\n",
    "    driver.get(url)\n",
    "\n",
    "    # Wait for load page\n",
    "    time.sleep(2)\n",
    "\n",
    "    #Accept cookies\n",
    "    driver.find_element(By.XPATH,'/html/body/div[6]/div/div/div[2]/div[2]').click()\n",
    "    time.sleep(1)\n",
    "\n",
    "    #Get all items\n",
    "    rows = driver.find_elements(By.XPATH, element)\n",
    "    getStats(rows, typeStat)\n",
    "    # Close driver\n",
    "    driver.close()"
   ]
  },
  {
   "cell_type": "code",
   "execution_count": 149,
   "id": "0c1da1e5-5d63-4fb6-8758-824456800162",
   "metadata": {},
   "outputs": [],
   "source": [
    "getPage(\"https://bindingofisaacrebirth.fandom.com/wiki/Damage\", '//*[@id=\"mw-content-text\"]/div/table[4]/tbody/tr', \"damage\")"
   ]
  },
  {
   "cell_type": "code",
   "execution_count": 150,
   "id": "d5476584-a832-4af6-b7d4-3bb6ce871712",
   "metadata": {},
   "outputs": [],
   "source": [
    "getPage(\"https://bindingofisaacrebirth.fandom.com/wiki/Tears\",  '//*[@id=\"mw-content-text\"]/div/table[5]/tbody/tr', \"tears\")"
   ]
  },
  {
   "cell_type": "code",
   "execution_count": 151,
   "id": "45b92bc2-5b1a-4aac-b623-f3a6c752a594",
   "metadata": {},
   "outputs": [],
   "source": [
    "getPage(\"https://bindingofisaacrebirth.fandom.com/wiki/Range\",  '//*[@id=\"mw-content-text\"]/div/table[4]/tbody/tr', \"range\")"
   ]
  },
  {
   "cell_type": "code",
   "execution_count": 152,
   "id": "f1288335-94f4-4b57-91aa-fd513d2bb702",
   "metadata": {},
   "outputs": [
    {
     "name": "stdout",
     "output_type": "stream",
     "text": [
      "                name damage  tears   range\n",
      "0            Abaddon   +1.5               \n",
      "1          Capricorn   +0.5          +0.75\n",
      "2   Cat-O-Nine-Tails     +1               \n",
      "3        Dark Matter     +1               \n",
      "4      Death's Touch   +1.5               \n",
      "5            Godhead   +0.5               \n",
      "6    Growth Hormones     +1               \n",
      "7         Guillotine     +1               \n",
      "8        Jesus Juice   +0.5          +0.25\n",
      "9     Magic Mushroom   +0.3           +1.5\n",
      "10      Odd Mushroom   +0.3   +1.7   +0.25\n",
      "11         Pentagram     +1               \n",
      "12     SMB Super Fan   +0.3   +0.2        \n",
      "13          Synthoil     +1          +5.25\n",
      "14          The Halo   +0.3   +0.2   +0.25\n",
      "15          The Mark     +1               \n",
      "16          The Pact   +0.5               \n",
      "17  Whore of Babylon   +1.5               \n",
      "18   Maw of the Void     +1               \n",
      "19         Dog Tooth   +0.3               \n",
      "20             Dogma     +2               \n",
      "21         Glass Eye  +0.75               \n",
      "22        Heartbreak  +0.25               \n",
      "23        Redemption     +1               \n",
      "24           Sausage   +0.5   +0.5    +1.5\n",
      "25              Stye   +28%               \n",
      "26          Blue Cap          +0.7        \n",
      "27        Number One          +1.5        \n",
      "28            Rosary          +0.5        \n",
      "29             Screw          +0.5        \n",
      "30        Toothpicks          +0.7        \n",
      "31        Torn Photo          +0.7        \n",
      "32             Binky         +0.75        \n",
      "33   Eden's Blessing          +0.7        \n",
      "34            Marked          +0.7        \n",
      "35         Mr. Dolly          +0.7   +5.25\n",
      "36      Analog Stick         +0.35        \n",
      "37    Divorce Papers          +0.7        \n",
      "38     A Bar of Soap          +0.5        \n",
      "39    Paschal Candle          +0.4        \n",
      "40        Blood Clot                    +5\n",
      "41       Mom's Heels                 +5.25\n",
      "42    Mom's Lipstick                 +5.25\n",
      "43   Mom's Underwear                 +5.25\n",
      "44     My Reflection                  +1.5\n",
      "45         Roid Rage                 +5.25\n",
      "46      Sacred Heart                +4.125\n",
      "47        Safety Pin                 +5.25\n",
      "48      Mom's Pearls                 +1.25\n",
      "49       Tropicamide                  +1.5\n"
     ]
    }
   ],
   "source": [
    "arrayItem = []\n",
    "for item in array:\n",
    "    arrayItem.append({\"name\": item.name, \"damage\": item.damage, \"tears\": item.tears, \"range\": item.range})\n",
    "df = pd.DataFrame(arrayItem)\n",
    "f = pd.DataFrame(arrayItem)\n",
    "df.style\n",
    "df.to_csv('items.csv', index=False)  \n",
    "print(df)"
   ]
  },
  {
   "cell_type": "code",
   "execution_count": null,
   "id": "2c6ab5ec-8292-47c5-bead-a7e5444526d6",
   "metadata": {},
   "outputs": [],
   "source": []
  }
 ],
 "metadata": {
  "kernelspec": {
   "display_name": "Python 3 (ipykernel)",
   "language": "python",
   "name": "python3"
  },
  "language_info": {
   "codemirror_mode": {
    "name": "ipython",
    "version": 3
   },
   "file_extension": ".py",
   "mimetype": "text/x-python",
   "name": "python",
   "nbconvert_exporter": "python",
   "pygments_lexer": "ipython3",
   "version": "3.7.3"
  }
 },
 "nbformat": 4,
 "nbformat_minor": 5
}
